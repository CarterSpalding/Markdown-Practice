{
 "cells": [
  {
   "cell_type": "code",
   "execution_count": 1,
   "metadata": {},
   "outputs": [
    {
     "name": "stdout",
     "output_type": "stream",
     "text": [
      "6\n"
     ]
    }
   ],
   "source": [
    "a=3\n",
    "b=a*2\n",
    "print(b)"
   ]
  },
  {
   "cell_type": "code",
   "execution_count": 3,
   "metadata": {},
   "outputs": [
    {
     "name": "stdout",
     "output_type": "stream",
     "text": [
      "20\n"
     ]
    }
   ],
   "source": [
    "c=4\n",
    "d=5\n",
    "print(c*d)"
   ]
  },
  {
   "cell_type": "code",
   "execution_count": 9,
   "metadata": {},
   "outputs": [
    {
     "name": "stdout",
     "output_type": "stream",
     "text": [
      "Hello World\n"
     ]
    }
   ],
   "source": [
    "print(\"Hello World\")"
   ]
  },
  {
   "cell_type": "markdown",
   "metadata": {},
   "source": [
    "# Title"
   ]
  },
  {
   "cell_type": "markdown",
   "metadata": {},
   "source": [
    "## Heading 2"
   ]
  },
  {
   "cell_type": "markdown",
   "metadata": {},
   "source": [
    "### Heading 3"
   ]
  },
  {
   "cell_type": "markdown",
   "metadata": {},
   "source": [
    "#### Heading 4"
   ]
  },
  {
   "cell_type": "markdown",
   "metadata": {},
   "source": [
    "##### Heading 5"
   ]
  },
  {
   "cell_type": "markdown",
   "metadata": {},
   "source": [
    "###### Heading 6"
   ]
  },
  {
   "cell_type": "markdown",
   "metadata": {},
   "source": [
    "> BlockQuote"
   ]
  },
  {
   "cell_type": "markdown",
   "metadata": {},
   "source": [
    "* List\n",
    "* List 2\n",
    "* List 3"
   ]
  },
  {
   "cell_type": "markdown",
   "metadata": {},
   "source": [
    "1. Ordered List 1\n",
    "2. Ordered List 2\n",
    "3. Ordered List 3"
   ]
  },
  {
   "cell_type": "markdown",
   "metadata": {},
   "source": [
    "**Bold Words**"
   ]
  },
  {
   "cell_type": "markdown",
   "metadata": {},
   "source": [
    "*Italics Words*"
   ]
  },
  {
   "cell_type": "markdown",
   "metadata": {},
   "source": [
    "`Highlighted Words`"
   ]
  },
  {
   "cell_type": "markdown",
   "metadata": {},
   "source": [
    "`Google`can be found at <a href=\"https://www.google.com\">this link<a/>"
   ]
  },
  {
   "cell_type": "markdown",
   "metadata": {},
   "source": [
    "![Image of a Pirate Ship](data:image/png;base64,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)"
   ]
  },
  {
   "cell_type": "code",
   "execution_count": null,
   "metadata": {},
   "outputs": [],
   "source": []
  }
 ],
 "metadata": {
  "kernelspec": {
   "display_name": "Python 3",
   "language": "python",
   "name": "python3"
  },
  "language_info": {
   "codemirror_mode": {
    "name": "ipython",
    "version": 3
   },
   "file_extension": ".py",
   "mimetype": "text/x-python",
   "name": "python",
   "nbconvert_exporter": "python",
   "pygments_lexer": "ipython3",
   "version": "3.8.3"
  }
 },
 "nbformat": 4,
 "nbformat_minor": 4
}
